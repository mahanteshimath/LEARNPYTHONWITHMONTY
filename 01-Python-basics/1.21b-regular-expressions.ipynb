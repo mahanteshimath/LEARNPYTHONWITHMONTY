{
 "cells": [
  {
   "cell_type": "markdown",
   "metadata": {},
   "source": [
    "<h1>Regular Expression</h1>"
   ]
  },
  {
   "cell_type": "markdown",
   "metadata": {},
   "source": [
    "<h3>Introduction to Regular Expressions\n",
    "</h3>"
   ]
  },
  {
   "cell_type": "markdown",
   "metadata": {},
   "source": [
    "<ul><li> Regular expression are used for pattern matching.</li>\n",
    "<li>Regular expressions are very useful when dealing with semi-structured data i.e. when fields in file are not having well defined delimiters like comma etc.</li>\n",
    "    <li>It is a powerful language to match patterns in data.</li>\n",
    "    <li>“re” module in python provides support for regular expressions.</li>\n",
    "    </ul>\n",
    "   "
   ]
  },
  {
   "cell_type": "code",
   "execution_count": 1,
   "metadata": {},
   "outputs": [
    {
     "data": {
      "text/plain": [
       "<_sre.SRE_Match object; span=(0, 0), match=''>"
      ]
     },
     "execution_count": 1,
     "metadata": {},
     "output_type": "execute_result"
    }
   ],
   "source": [
    "import re\n",
    "patternObject = re.compile('[\\d]*')\n",
    "patternObject.match(\"Specify Search String here\")"
   ]
  },
  {
   "cell_type": "markdown",
   "metadata": {},
   "source": [
    "<ul><li>There are two kinds of patterns in regular expression:</li>\n",
    "    <ol><li><b> Literals:</b></li>\n",
    "        <ul>\n",
    "            <li>Literal values are used to match precise pattern.</li>\n",
    "            <li>Literal characters are any character not listed as a metacharacter.</li>\n",
    "        </ul>\n",
    "        <li><b>Metacharacter:</b></li>\n",
    "        <ul>\n",
    "            <li>Metacharcter have special meaning;like, a dot will match any single character.</li>\n",
    "            <li>Here's the complete list of metacharacters:\n",
    "           <p><b>    < (  [  {  \\  ^  -  = $  !  |  ]  }  )  ?  *  +  . >  </b></p>"
   ]
  },
  {
   "cell_type": "markdown",
   "metadata": {
    "collapsed": true
   },
   "source": [
    "<p> Regular expression support patterns much more flexible than simply using a dot to match any character.</p>\n",
    " <p>The following explains how to use character classes to restrict which characters are matched.</p>\n",
    "        \n"
   ]
  },
  {
   "cell_type": "markdown",
   "metadata": {},
   "source": [
    "<h3>Character Classes</h3>"
   ]
  },
  {
   "cell_type": "markdown",
   "metadata": {},
   "source": [
    "* [057] &nbsp;  Matches any single digit that is either 0,5 or 7\n",
    "* [0-9] &nbsp;  Matches any single digit between 0 and 9\n",
    "* [3-6] &nbsp;  Matches any single digit between 3 and 6\n",
    "* [a-z] &nbsp;  Matches any single lowercase letter\n",
    "* [C-F] &nbsp;  Matches any single uppercase letter between C and F\n",
    "  \n"
   ]
  },
  {
   "cell_type": "code",
   "execution_count": 2,
   "metadata": {},
   "outputs": [
    {
     "data": {
      "text/plain": [
       "<_sre.SRE_Match object; span=(0, 2), match='D3'>"
      ]
     },
     "execution_count": 2,
     "metadata": {},
     "output_type": "execute_result"
    }
   ],
   "source": [
    "import re\n",
    "p = re.compile('[C-F][3-6]')\n",
    "p\n",
    "p.match(\"D3\")"
   ]
  },
  {
   "cell_type": "markdown",
   "metadata": {},
   "source": [
    "<h3>Predefined Character Classes</h3>"
   ]
  },
  {
   "cell_type": "markdown",
   "metadata": {},
   "source": [
    "* \\\\d &nbsp; Matches any single digit\n",
    "* \\\\w &nbsp; Matches any word character\n",
    "* \\\\s &nbsp; Matches any whitespace character(space,tab,newline,etc.)"
   ]
  },
  {
   "cell_type": "code",
   "execution_count": 3,
   "metadata": {},
   "outputs": [
    {
     "data": {
      "text/plain": [
       "<_sre.SRE_Match object; span=(0, 4), match='314d'>"
      ]
     },
     "execution_count": 3,
     "metadata": {},
     "output_type": "execute_result"
    }
   ],
   "source": [
    "import re\n",
    "p = re.compile('\\d\\d\\d\\w')\n",
    "p\n",
    "p.match(\"314d\")"
   ]
  },
  {
   "cell_type": "markdown",
   "metadata": {},
   "source": [
    "<h3>Negated Predefined Character Classes</h3>"
   ]
  },
  {
   "cell_type": "markdown",
   "metadata": {},
   "source": [
    "* \\\\D &nbsp; Matches any single non-digit character\n",
    "* \\\\W &nbsp; Matches any non-word character\n",
    "* \\\\S &nbsp; Matches any non-whitespace character"
   ]
  },
  {
   "cell_type": "code",
   "execution_count": 4,
   "metadata": {},
   "outputs": [
    {
     "data": {
      "text/plain": [
       "<_sre.SRE_Match object; span=(0, 3), match='ZX#'>"
      ]
     },
     "execution_count": 4,
     "metadata": {},
     "output_type": "execute_result"
    }
   ],
   "source": [
    "import re\n",
    "p = re.compile('\\D\\D\\W')\n",
    "p\n",
    "p.match(\"ZX#\")"
   ]
  },
  {
   "cell_type": "markdown",
   "metadata": {},
   "source": [
    "<h3>Matching Quantifiers</h3>"
   ]
  },
  {
   "cell_type": "markdown",
   "metadata": {},
   "source": [
    "* {5}   &nbsp; Preceding character may occur exactly five times\n",
    "* {0,6} &nbsp; Preceding character may occur between zero and six times \n",
    "* ?     &nbsp; Preceding character is optional (may occur zero or one times)\t\n",
    "* \\+    &nbsp; Preceding character\tmay occur one or more times\t\n",
    "* \\*    &nbsp; Preceding character may occur zero or more times\n",
    "  \n"
   ]
  },
  {
   "cell_type": "markdown",
   "metadata": {},
   "source": [
    "<h3>Boundary Matching Metacharacters</h3>"
   ]
  },
  {
   "cell_type": "markdown",
   "metadata": {},
   "source": [
    "* ^ &nbsp; Matches only at the begining of a string\n",
    "* \\$ &nbsp; Matches only at the ending of a string\n",
    "  \n"
   ]
  }
 ],
 "metadata": {
  "kernelspec": {
   "display_name": "Python 3",
   "language": "python",
   "name": "python3"
  },
  "language_info": {
   "codemirror_mode": {
    "name": "ipython",
    "version": 3
   },
   "file_extension": ".py",
   "mimetype": "text/x-python",
   "name": "python",
   "nbconvert_exporter": "python",
   "pygments_lexer": "ipython3",
   "version": "3.6.4"
  }
 },
 "nbformat": 4,
 "nbformat_minor": 1
}
